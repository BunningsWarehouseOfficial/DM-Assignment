{
 "cells": [
  {
   "cell_type": "code",
   "execution_count": 1,
   "source": [
    "import pandas as pd\r\n",
    "import numpy as np\r\n",
    "import seaborn as sn\r\n",
    "import matplotlib.pyplot as plt\r\n",
    "\r\n",
    "from sklearn.preprocessing import MinMaxScaler\r\n",
    "#from sklearn.model_selection import train_test_split\r\n",
    "#from sklearn.preprocessing import LabelEncoder\r\n",
    "from sklearn.preprocessing import OrdinalEncoder\r\n",
    "\r\n",
    "from sklearn.neighbors import KNeighborsClassifier\r\n",
    "from sklearn.tree import DecisionTreeClassifier\r\n",
    "from sklearn.naive_bayes import GaussianNB\r\n",
    "\r\n",
    "from sklearn.model_selection import StratifiedKFold\r\n",
    "from sklearn.model_selection import GridSearchCV"
   ],
   "outputs": [],
   "metadata": {}
  },
  {
   "cell_type": "code",
   "execution_count": 2,
   "source": [
    "data = pd.read_csv(\"data2021.student.csv\", delimiter=',', header=[0])  # No attributes\r\n",
    "\r\n",
    "print(data)"
   ],
   "outputs": [
    {
     "output_type": "stream",
     "name": "stdout",
     "text": [
      "        ID  Class  C1   C2  C3    C4  C5  C6  C7  C8  ...  C23 C24 C25 C26  \\\n",
      "0        1    1.0  53  yes  V5  11.0  V2  V1  V1  V3  ...    1  V3  11  V2   \n",
      "1        2    0.0  35  yes  V3  11.0  V7  V1  V1  V1  ...    2  V1  11  V4   \n",
      "2        3    1.0  40  yes  V5  18.0  V2  V1  V2  V3  ...    1  V2  18  V3   \n",
      "3        4    0.0  28  yes  V3  14.0  V7  V1  V1  V4  ...    1  V1  14  V2   \n",
      "4        5    0.0  40  yes  V3  11.0  V1  V1  V4  V1  ...    1  V1  11  V3   \n",
      "...    ...    ...  ..  ...  ..   ...  ..  ..  ..  ..  ...  ...  ..  ..  ..   \n",
      "1095  1096    NaN  31  yes  V3  48.0  V3  V1  V1  V4  ...    1  V2  48  V2   \n",
      "1096  1097    NaN  39  yes  V5  22.0  V3  V3  V4  V4  ...    1  V2  22  V2   \n",
      "1097  1098    NaN  23  yes  V3  17.0  V2  V1  V1  V1  ...    2  V1  17  V4   \n",
      "1098  1099    NaN  25   no  V2   5.0  V3  V1  V2  V1  ...    1  V2   5  V2   \n",
      "1099  1100    NaN  34  yes  V3   7.0  V3  V1  V2  V1  ...    1  V2   7  V2   \n",
      "\n",
      "     C27 C28  C29  C30   C31 C32  \n",
      "0      4  V3  1.0    T  7865 NaN  \n",
      "1      2  V3  2.0    T  3904 NaN  \n",
      "2      4  V1  1.0    T  4296 NaN  \n",
      "3      2  V2  1.0    T  1402 NaN  \n",
      "4      4  V4  1.0    T  1503 NaN  \n",
      "...   ..  ..  ...  ...   ...  ..  \n",
      "1095   3  V2  1.0    T  6758 NaN  \n",
      "1096   3  V3  1.0    T  2674 NaN  \n",
      "1097   4  V2  1.0    T  2123 NaN  \n",
      "1098   3  V4  1.0    T   589 NaN  \n",
      "1099   2  V3  1.0    T  2576 NaN  \n",
      "\n",
      "[1100 rows x 34 columns]\n"
     ]
    }
   ],
   "metadata": {}
  },
  {
   "cell_type": "markdown",
   "source": [
    "# Data Preparation"
   ],
   "metadata": {}
  },
  {
   "cell_type": "code",
   "execution_count": 3,
   "source": [
    "# Class obviously should be categorical\r\n",
    "data[\"Class\"] = data[\"Class\"].astype('category')\r\n",
    "\r\n",
    "# Convert all attributes with data type 'object', representing non-numeric\r\n",
    "# strings, to categorical\r\n",
    "converting = []\r\n",
    "for att in data:\r\n",
    "    if data[att].dtype.name == 'object':\r\n",
    "        data[att] = data[att].astype('category')\r\n",
    "        converting.append(att)\r\n",
    "\r\n",
    "print(\"Explicitly converted the following non-numeric attributes to categorical:\")\r\n",
    "print(converting, '\\n')"
   ],
   "outputs": [
    {
     "output_type": "stream",
     "name": "stdout",
     "text": [
      "Explicitly converted the following non-numeric attributes to categorical:\n",
      "['C2', 'C3', 'C5', 'C6', 'C7', 'C8', 'C10', 'C11', 'C12', 'C13', 'C14', 'C18', 'C21', 'C22', 'C24', 'C26', 'C28', 'C30'] \n",
      "\n"
     ]
    }
   ],
   "metadata": {}
  },
  {
   "cell_type": "code",
   "execution_count": 4,
   "source": [
    "# Drop the ID attribute, because it doesn't contribute anything to the classification; there is no point to including it\r\n",
    "data.drop(['ID'], axis=1, inplace=True)\r\n",
    "print(\"Dropped the ['ID'] attribute\\n\")"
   ],
   "outputs": [
    {
     "output_type": "stream",
     "name": "stdout",
     "text": [
      "Dropped the ['ID'] attribute\n",
      "\n"
     ]
    }
   ],
   "metadata": {}
  },
  {
   "cell_type": "code",
   "execution_count": 5,
   "source": [
    "# Remove all attributes with missing values more than the threshold\r\n",
    "missing_threshold = 0.8\r\n",
    "dropping = []\r\n",
    "for att in data:\r\n",
    "    missing = data[att].isnull().sum() / data[att].size\r\n",
    "    if missing >= missing_threshold and att != 'Class':\r\n",
    "        dropping.append(att)\r\n",
    "\r\n",
    "print(\"Dropping the following attributes (due to too many missing values):\")\r\n",
    "print(dropping, '\\n')\r\n",
    "data.drop(dropping, axis=1, inplace=True)"
   ],
   "outputs": [
    {
     "output_type": "stream",
     "name": "stdout",
     "text": [
      "Dropping the following attributes (due to too many missing values):\n",
      "['C11', 'C32'] \n",
      "\n"
     ]
    }
   ],
   "metadata": {}
  },
  {
   "cell_type": "code",
   "execution_count": 6,
   "source": [
    "# Convert numeric attributes to categorical when they are likely to be so\r\n",
    "unique_threshold = 10\r\n",
    "converting = []\r\n",
    "for att in data:\r\n",
    "    if data[att].dtype.name != 'category':\r\n",
    "        if data[att].nunique() <= 10:\r\n",
    "            data[att] = data[att].astype('category')\r\n",
    "            converting.append(att)\r\n",
    "\r\n",
    "print(\"Converted the following numeric attributes to categorical (due to few unique values):\")\r\n",
    "print(converting, '\\n')"
   ],
   "outputs": [
    {
     "output_type": "stream",
     "name": "stdout",
     "text": [
      "Converted the following numeric attributes to categorical (due to few unique values):\n",
      "['C15', 'C17', 'C20', 'C23', 'C27', 'C29'] \n",
      "\n"
     ]
    }
   ],
   "metadata": {}
  },
  {
   "cell_type": "code",
   "execution_count": 7,
   "source": [
    "# Replace all numeric and nominal attributes with missing values less than the threshold with the global mean and mode respectively\r\n",
    "impute_threshold = 0.05  # Note that this, as well as the previous step, covers all missing values for this dataset\r\n",
    "imputed = []\r\n",
    "for att in data:\r\n",
    "    missing = data[att].isnull().sum() / data[att].size\r\n",
    "    if missing < impute_threshold and missing != 0 and att != 'Class':\r\n",
    "        # Replace values with the mode for nominal attributes\r\n",
    "        if data[att].dtype.name == 'category':\r\n",
    "            data[att].fillna(data[att].mode()[0], inplace=True)\r\n",
    "        # Replace values with the mean for numeric attributes\r\n",
    "        else:\r\n",
    "            data[att].fillna(data[att].mean(), inplace=True)\r\n",
    "        imputed.append(att)\r\n",
    "\r\n",
    "print(\"Imputed mean (for numeric) and mode (for nominal) values for the following attributes (due to missing values):\")\r\n",
    "print(imputed, '\\n')"
   ],
   "outputs": [
    {
     "output_type": "stream",
     "name": "stdout",
     "text": [
      "Imputed mean (for numeric) and mode (for nominal) values for the following attributes (due to missing values):\n",
      "['C3', 'C4', 'C13', 'C29'] \n",
      "\n"
     ]
    }
   ],
   "metadata": {}
  },
  {
   "cell_type": "code",
   "execution_count": 8,
   "source": [
    "# Scaling all numeric attributes to the range [0,1] (normalisation)\r\n",
    "data_numeric = data.select_dtypes(include='number')\r\n",
    "scaled_data_numeric = MinMaxScaler().fit_transform(data_numeric)\r\n",
    "data[data_numeric.columns] = scaled_data_numeric\r\n",
    "\r\n",
    "print(\"Scaled numeric data to range [0,1]\\n\")"
   ],
   "outputs": [
    {
     "output_type": "stream",
     "name": "stdout",
     "text": [
      "Scaled numeric data to range [0,1]\n",
      "\n"
     ]
    }
   ],
   "metadata": {}
  },
  {
   "cell_type": "code",
   "execution_count": 9,
   "source": [
    "# Remove all attributes with extremely low variance below the threshold\r\n",
    "var_threshold = 0.0\r\n",
    "dropping = []\r\n",
    "for att in data:\r\n",
    "    if data[att].dtype.name != 'category':\r\n",
    "        var = data[att].var()\r\n",
    "        if var <= var_threshold and att != 'Class':\r\n",
    "            dropping.append(att)\r\n",
    "\r\n",
    "print(\"Dropping the following numeric attributes (due to extremely low variance):\")\r\n",
    "print(dropping, '\\n')\r\n",
    "data.drop(dropping, axis=1, inplace=True)"
   ],
   "outputs": [
    {
     "output_type": "stream",
     "name": "stdout",
     "text": [
      "Dropping the following numeric attributes (due to extremely low variance):\n",
      "[] \n",
      "\n"
     ]
    }
   ],
   "metadata": {}
  },
  {
   "cell_type": "code",
   "execution_count": 10,
   "source": [
    "# This is done separately to the dropping attributes with low variance as in the case var_threshold > 0.0\r\n",
    "dropping = []\r\n",
    "for att in data:\r\n",
    "    if data[att].dtype.name == 'category':\r\n",
    "        if data[att].nunique() == 1:\r\n",
    "            dropping.append(att)\r\n",
    "\r\n",
    "print(\"Dropping the following categorical attributes (due to only having one unique value):\")\r\n",
    "print(dropping, '\\n')\r\n",
    "data.drop(dropping, axis=1, inplace=True)"
   ],
   "outputs": [
    {
     "output_type": "stream",
     "name": "stdout",
     "text": [
      "Dropping the following categorical attributes (due to only having one unique value):\n",
      "['C10', 'C15', 'C17', 'C30'] \n",
      "\n"
     ]
    }
   ],
   "metadata": {}
  },
  {
   "cell_type": "code",
   "execution_count": 11,
   "source": [
    "# Detect and delete all duplicate attributes, keeping the first found attribute\r\n",
    "data_transposed = data.transpose()\r\n",
    "data_transposed_is_duplicate = data_transposed.duplicated(subset=None, keep='first')\r\n",
    "duplicate_cols_indices = np.where(data_transposed_is_duplicate == True)[0]\r\n",
    "# Convert the tranpose 'row' indices, representing columns, to the relevant attribute names\r\n",
    "duplicate_cols = data.columns[duplicate_cols_indices]\r\n",
    "\r\n",
    "print(\"Dropping the following attributes (due to being duplicates):\")\r\n",
    "print(duplicate_cols, '\\n')\r\n",
    "data.drop(duplicate_cols, axis=1, inplace=True)"
   ],
   "outputs": [
    {
     "output_type": "stream",
     "name": "stdout",
     "text": [
      "Dropping the following attributes (due to being duplicates):\n",
      "Index(['C12', 'C26', 'C31'], dtype='object') \n",
      "\n"
     ]
    }
   ],
   "metadata": {}
  },
  {
   "cell_type": "code",
   "execution_count": 12,
   "source": [
    "# Detect and delete all duplicate instances, keeping the first found instance\r\n",
    "data_is_duplicate = data.duplicated(subset=None, keep='first')\r\n",
    "duplicate_rows = np.where(data_is_duplicate == True)[0]\r\n",
    "data.drop(index=duplicate_rows, axis=0, inplace=True)\r\n",
    "\r\n",
    "print(\"Dropping the following instances (due to being duplicates):\")\r\n",
    "print(duplicate_rows, '\\n')"
   ],
   "outputs": [
    {
     "output_type": "stream",
     "name": "stdout",
     "text": [
      "Dropping the following instances (due to being duplicates):\n",
      "[900 901 902 903 904 905 906 907 908 909 910 911 912 913 914 915 916 917\n",
      " 918 919 920 921 922 923 924 925 926 927 928 929 930 931 932 933 934 935\n",
      " 936 937 938 939 940 941 942 943 944 945 946 947 948 949 950 951 952 953\n",
      " 954 955 956 957 958 959 960 961 962 963 964 965 966 967 968 969 970 971\n",
      " 972 973 974 975 976 977 978 979 980 981 982 983 984 985 986 987 988 989\n",
      " 990 991 992 993 994 995 996 997 998 999] \n",
      "\n"
     ]
    }
   ],
   "metadata": {}
  },
  {
   "cell_type": "code",
   "execution_count": 13,
   "source": [
    "# Display a correlation matrix for numeric attributes\r\n",
    "corr_matrix = data.corr()  # Using the 'pearson' method by default\r\n",
    "sn.heatmap(corr_matrix, annot=True)\r\n",
    "plt.show()"
   ],
   "outputs": [
    {
     "output_type": "display_data",
     "data": {
      "image/png": "[encoded data removed]",
      "text/plain": [
       "<Figure size 432x288 with 2 Axes>"
      ]
     },
     "metadata": {
      "needs_background": "light"
     }
    }
   ],
   "metadata": {}
  },
  {
   "cell_type": "code",
   "execution_count": 14,
   "source": [
    "# Remove highly correlated numeric attributes automatically\r\n",
    "corr_threshold = 0.9\r\n",
    "dropping = []\r\n",
    "# Retrieve only the upper triangle of the matrix, not including the diagonal line of 1s, as the calc is symmetrical\r\n",
    "corr_matrix_upper = corr_matrix.where(np.triu(np.ones(corr_matrix.shape), k=1).astype(np.bool))\r\n",
    "dropping = [att for att in corr_matrix_upper.columns if any(corr_matrix_upper[att] > corr_threshold)]\r\n",
    "\r\n",
    "print(\"Dropping the following numeric attributes (due to being highly correlated with another attribute):\")\r\n",
    "print(dropping, '\\n')\r\n",
    "data.drop(dropping, axis=1, inplace=True)"
   ],
   "outputs": [
    {
     "output_type": "stream",
     "name": "stdout",
     "text": [
      "Dropping the following numeric attributes (due to being highly correlated with another attribute):\n",
      "['C25'] \n",
      "\n"
     ]
    }
   ],
   "metadata": {}
  },
  {
   "cell_type": "code",
   "execution_count": 15,
   "source": [
    "#TODO: correlation matrix for categorical attributes (cramer)"
   ],
   "outputs": [],
   "metadata": {}
  },
  {
   "cell_type": "code",
   "execution_count": 16,
   "source": [
    "# AFTER IMPUTING/REMOVING MISSING\r\n",
    "# AFTER SCALING\r\n",
    "\r\n",
    "# SPLIT DATA INTO UNBALANCED TRAINING AND BALANCED (by shuffled numeric selection) VALIDATION\r\n",
    "\r\n",
    "# before removing attributes?\r\n",
    "# BEFORE OVERSAMPLING"
   ],
   "outputs": [],
   "metadata": {}
  },
  {
   "cell_type": "code",
   "execution_count": 17,
   "source": [
    "y = data.pop('Class')  # Remove the Class attribute from the dataframe\r\n",
    "y = y.to_numpy()\r\n",
    "\r\n",
    "# Using one-hot encoding for categorical attributes, as the classification models don't take strings.\r\n",
    "# Downside: adds extra 51 'attributes'\r\n",
    "# Upside: does not assume that categories are ordinal, something we can't easily determine without\r\n",
    "#         domain knowledge\r\n",
    "data_encoded = pd.get_dummies(data)\r\n",
    "x = data_encoded.to_numpy()\r\n",
    "\r\n",
    "x_train = x[:-100]\r\n",
    "x_test  = x[-100:]\r\n",
    "y_train = y[:-100]\r\n",
    "y_test  = y[-100:]"
   ],
   "outputs": [],
   "metadata": {}
  },
  {
   "cell_type": "markdown",
   "source": [
    "# Attribute Selection"
   ],
   "metadata": {}
  },
  {
   "cell_type": "markdown",
   "source": [
    "# Data Transformation"
   ],
   "metadata": {}
  },
  {
   "cell_type": "code",
   "execution_count": 18,
   "source": [
    "#TODO: dimensionality reduction (PCA)"
   ],
   "outputs": [],
   "metadata": {}
  },
  {
   "cell_type": "code",
   "execution_count": 19,
   "source": [
    "#TODO: oversampling (SMOTE)"
   ],
   "outputs": [],
   "metadata": {}
  },
  {
   "cell_type": "markdown",
   "source": [
    "# Model Training"
   ],
   "metadata": {}
  },
  {
   "cell_type": "code",
   "execution_count": 20,
   "source": [
    "#TODO: What is 'score'? Need total accuracy, confidence matrix, F-measure for selecting final 2 models."
   ],
   "outputs": [],
   "metadata": {}
  },
  {
   "cell_type": "code",
   "execution_count": 21,
   "source": [
    "model = KNeighborsClassifier(n_neighbors=3)\r\n",
    "skf = StratifiedKFold(n_splits=9)  # 9 splits for 100 samples per fold\r\n",
    "\r\n",
    "#TODO: Input parameters\r\n",
    "kmin = 3\r\n",
    "kmax = 15\r\n",
    "\r\n",
    "k_range = list(range(kmin, kmax))\r\n",
    "weights_options = ['uniform', 'distance']\r\n",
    "metric_options = ['manhattan', 'euclidean', 'chebyshev']\r\n",
    "params = {\r\n",
    "    'n_neighbors' : k_range,\r\n",
    "    'weights' : weights_options,\r\n",
    "    'metric' : metric_options\r\n",
    "}\r\n",
    "\r\n",
    "grid_search = GridSearchCV(model, param_grid=params, cv=skf)\r\n",
    "grid_search.fit(x_train, y_train)\r\n",
    "\r\n",
    "best_kNN = grid_search.best_estimator_\r\n",
    "print(\"=== K-nearest Neighbors Classifier ===\")\r\n",
    "print(\"Best score:\", grid_search.best_score_)\r\n",
    "print(\"Best parameters:\", grid_search.best_params_)\r\n",
    "print(\"Best classifier:\", best_kNN, '\\n')"
   ],
   "outputs": [
    {
     "output_type": "stream",
     "name": "stdout",
     "text": [
      "=== K-nearest Neighbors Classifier ===\n",
      "Best score: 0.7566666666666666\n",
      "Best parameters: {'metric': 'euclidean', 'n_neighbors': 12, 'weights': 'distance'}\n",
      "Best classifier: KNeighborsClassifier(metric='euclidean', n_neighbors=12, weights='distance') \n",
      "\n"
     ]
    }
   ],
   "metadata": {}
  },
  {
   "cell_type": "code",
   "execution_count": 22,
   "source": [
    "model = DecisionTreeClassifier(random_state=7)\r\n",
    "\r\n",
    "#TODO: Input parameters\r\n",
    "min_samples_min = 1\r\n",
    "min_samples_max = 10\r\n",
    "\r\n",
    "criterion_options = ['gini', 'entropy']\r\n",
    "splitter_options = ['best', 'random']\r\n",
    "min_samples_leaf_range = list(range(min_samples_min, min_samples_max))\r\n",
    "params = {\r\n",
    "    'criterion' : criterion_options,\r\n",
    "    'splitter' : splitter_options,\r\n",
    "    'min_samples_leaf' : min_samples_leaf_range\r\n",
    "}\r\n",
    "\r\n",
    "grid_search = GridSearchCV(model, param_grid=params, cv=skf)\r\n",
    "grid_search.fit(x_train, y_train)\r\n",
    "\r\n",
    "best_decision_tree = grid_search.best_estimator_\r\n",
    "print(\"=== Decision Tree Classifier ===\")\r\n",
    "print(\"Best score:\", grid_search.best_score_)\r\n",
    "print(\"Best parameters:\", grid_search.best_params_)\r\n",
    "print(\"Best classifier:\", best_decision_tree, '\\n')"
   ],
   "outputs": [
    {
     "output_type": "stream",
     "name": "stdout",
     "text": [
      "=== Decision Tree Classifier ===\n",
      "Best score: 0.7166666666666667\n",
      "Best parameters: {'criterion': 'gini', 'min_samples_leaf': 3, 'splitter': 'random'}\n",
      "Best classifier: DecisionTreeClassifier(min_samples_leaf=3, random_state=7, splitter='random') \n",
      "\n"
     ]
    }
   ],
   "metadata": {}
  },
  {
   "cell_type": "code",
   "execution_count": 23,
   "source": [
    "model = GaussianNB()\r\n",
    "\r\n",
    "params = {\r\n",
    "    'var_smoothing' : [1e-10, 1e-9, 1e-8, 1e-7, 1e-6, 1e-5, 1e-4, 1e-3, 1e-2, 1e-1, 1.0]\r\n",
    "}\r\n",
    "\r\n",
    "grid_search = GridSearchCV(model, param_grid=params, cv=skf)\r\n",
    "grid_search.fit(x_train, y_train)\r\n",
    "\r\n",
    "best_naive_bayes = grid_search.best_estimator_\r\n",
    "print(\"=== Naive Bayes Classifier ===\")\r\n",
    "print(\"Best score:\", grid_search.best_score_)\r\n",
    "print(\"Best parameters:\", grid_search.best_params_)\r\n",
    "print(\"Best classifier:\", best_naive_bayes, '\\n')"
   ],
   "outputs": [
    {
     "output_type": "stream",
     "name": "stdout",
     "text": [
      "=== Naive Bayes Classifier ===\n",
      "Best score: 0.7533333333333333\n",
      "Best parameters: {'var_smoothing': 1.0}\n",
      "Best classifier: GaussianNB(var_smoothing=1.0) \n",
      "\n"
     ]
    }
   ],
   "metadata": {}
  },
  {
   "cell_type": "code",
   "execution_count": null,
   "source": [
    "#TODO: SVM?"
   ],
   "outputs": [],
   "metadata": {}
  },
  {
   "cell_type": "code",
   "execution_count": null,
   "source": [
    "# categorical = [att for att in data if data[att].dtype.name == 'category']  # Retrieve list of all categorical attributes\r\n",
    "# print(categorical)\r\n",
    "\r\n",
    "# data['C2'].value_counts().plot.bar()"
   ],
   "outputs": [],
   "metadata": {}
  },
  {
   "cell_type": "code",
   "execution_count": null,
   "source": [
    "## TODO: TEMP\r\n",
    "data.to_csv('output_numeric_correlated_dropped.csv')"
   ],
   "outputs": [],
   "metadata": {}
  },
  {
   "cell_type": "code",
   "execution_count": null,
   "source": [
    "import pandas_profiling ## TODO: TEMP\r\n",
    "prof = pandas_profiling.ProfileReport(data)\r\n",
    "prof.to_file(output_file='profile_DELETE_numeric_correlated_dropped.html')\r\n",
    "data.profile_report()"
   ],
   "outputs": [],
   "metadata": {}
  }
 ],
 "metadata": {
  "orig_nbformat": 4,
  "language_info": {
   "name": "python",
   "version": "3.9.7",
   "mimetype": "text/x-python",
   "codemirror_mode": {
    "name": "ipython",
    "version": 3
   },
   "pygments_lexer": "ipython3",
   "nbconvert_exporter": "python",
   "file_extension": ".py"
  },
  "kernelspec": {
   "name": "python3",
   "display_name": "Python 3.9.7 64-bit (windows store)"
  },
  "interpreter": {
   "hash": "aa04ec5abca0df2060c6e16ee8e118fb4a53afe936a6d473f83100aa5828170a"
  }
 },
 "nbformat": 4,
 "nbformat_minor": 2
}